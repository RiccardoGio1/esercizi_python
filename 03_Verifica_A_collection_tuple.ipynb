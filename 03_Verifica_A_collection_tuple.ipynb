{
 "cells": [
  {
   "cell_type": "markdown",
   "metadata": {
    "id": "kLhZw8PksOgi"
   },
   "source": [
    "# Esercizio n. 1 - Dati pluviometrici mensili\n",
    "\n",
    "Supponiamo di avere una tupla contenente i dati pluviometrici mensili  dei capoluoghi di provincia lombardi.\n",
    "Ogni voce nella tupla è strutturata nel seguente modo:\n"
   ]
  },
  {
   "cell_type": "code",
   "execution_count": null,
   "metadata": {
    "id": "o3SO9HqJre7M"
   },
   "outputs": [],
   "source": [
    "(\"citta\", [(\"mese1\", valore1),(\"mese2\", valore2), ..])"
   ]
  },
  {
   "cell_type": "markdown",
   "metadata": {
    "id": "Ui5lzq_OtqgD"
   },
   "source": [
    "Per analizzare i dati sulle precipitazioni di una città definisci una funzione che riceva come parametro il nome della città e restituisca una tupla con questa struttura (media,(valoreMax,meseMax),(valoreMin,meseMin)).\n",
    "\n",
    "Dove:\n",
    "\n",
    "* media: valore medio calcolato solo per i mesi disponibili*\n",
    "\n",
    "* meseMax e meseMin: i mesi in cui si sono registrate maggiori precipitazioni e minori precipitazioni.\n",
    "\n",
    "* valoreMax e valoreMin: i rispettivi valori rilevati\n",
    "\n",
    "\n",
    "**N.B*:** Nel calcolo della media non includere i mesi per i quale non risulta disponibile il valore.\n",
    "\n",
    "Ad esempio: (\"roma\", [(\"gennaio\", \"N/D\"), (\"febbraio\", 20), ... , (\"Dicembre\",23)])\n",
    "\n",
    "La media andrà calcolata su 11 mesi e non su 12.\n",
    "\n",
    "**N.B:**Prevedere la possibilità che la tupla ritornata sia vuota\n",
    "\n"
   ]
  },
  {
   "cell_type": "markdown",
   "metadata": {
    "id": "ZouP0l7iveiU"
   },
   "source": [
    "##Esercizio n.2 -  Vendite per reparto\n",
    "\n",
    "Nella tupla_vendite sono memorizzate le  vendite . Per ogni vendita si riporta: reparto, categoria, prodotto, tipologia di pagamento e importo.\n",
    "Utilizzare le funzioni predefinite sum,min,max per le liste."
   ]
  },
  {
   "cell_type": "code",
   "execution_count": null,
   "metadata": {
    "id": "h4vZdH8jZIdB"
   },
   "outputs": [],
   "source": [
    "tupla_vendite = (\n",
    "                ((\"RepartoA\",\"Informatica\"),(\"Prodotto A\", (\"contanti\",1000))),\n",
    "                ((\"RepartoA\",\"Informatica\"),(\"Prodotto B\", (\"carta di credito\",1500))),\n",
    "                ((\"RepartoA\",\"Informatica\"),(\"Prodotto C\", (\"carta di credito\",1200))),\n",
    "                ((\"RepartoA\",\"Informatica\"),(\"Prodotto D\", (\"contanti\",200))),\n",
    "                ((\"RepartoA\",\"Informatica\"),(\"Prodotto E\", (\"contanti\",800))),\n",
    "                ((\"RepartoA\",\"Informatica\"),(\"Prodotto F\", (\"N/D\",200))),\n",
    "                ((\"RepartoB\",\"Elettronica\"),(\"Prodotto A\", (\"contanti\",1500))),\n",
    "                ((\"RepartoB\",\"Elettronica\"),(\"Prodotto B\", (\"carta di credito\",900)))\n",
    "                )\n"
   ]
  },
  {
   "cell_type": "markdown",
   "metadata": {
    "id": "bdaEtz1jmc7c"
   },
   "source": [
    "\n",
    "Richieste:\n",
    "\n",
    "1. Definire una funzione chiamata **media_globale** che accetti come parametro la tupla delle vendite e restituisca l'importo medio delle vendite indipendentemente dal tipo di pagamento.\n",
    "\n",
    "2. Definire una funzione chiamata **media** che accetti come parametri la tupla delle vendite, la categoria e la tipologia di pagamento (contanti o carta di credito) e restituisca l'importo medio delle vendite .\n",
    "\n",
    "3. Definire una funzione chiamata **venditaMax** che restituisca una tupla contenente la vendita massima e il prodotto (o i prodotti), indipendentemente dalla tipologia di pagamento.\n",
    "\n",
    "4. Definire una funzione chiamata **venditaMin** che restituisca una tupla contenente la vendita inferiore registrata nel reparto RepartoA.\n",
    "\n",
    "5. Definire una funzione chiamata **venditaPer** che restituisca una tupla contenente la percentuale delle vendite per reparto rispetto al totale.\n",
    "\n",
    "6. Prevedere un menu di scelta."
   ]
  }
 ],
 "metadata": {
  "colab": {
   "provenance": []
  },
  "kernelspec": {
   "display_name": "Python 3",
   "name": "python3"
  },
  "language_info": {
   "name": "python"
  }
 },
 "nbformat": 4,
 "nbformat_minor": 0
}
